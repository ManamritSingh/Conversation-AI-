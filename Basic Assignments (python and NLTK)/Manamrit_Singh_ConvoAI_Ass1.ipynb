{
  "cells": [
    {
      "cell_type": "code",
      "execution_count": 1,
      "id": "06626ef3",
      "metadata": {
        "colab": {
          "base_uri": "https://localhost:8080/"
        },
        "id": "06626ef3",
        "outputId": "44063720-f64f-4932-e370-d1e6bc684684"
      },
      "outputs": [
        {
          "output_type": "stream",
          "name": "stdout",
          "text": [
            "Initial array [1 2 3 6 4 5]\n",
            "Reversed array [5 4 6 3 2 1]\n"
          ]
        }
      ],
      "source": [
        "#1 (a) \n",
        "import numpy as np\n",
        "arr = np.array([1,2,3,6,4,5])\n",
        "print('Initial array', str(arr))\n",
        "rev = arr[::-1]\n",
        "print('Reversed array', str(rev))"
      ]
    },
    {
      "cell_type": "code",
      "execution_count": 2,
      "id": "7c77dd10",
      "metadata": {
        "id": "7c77dd10",
        "outputId": "20ef8ab3-0197-4720-bb07-6d287412fc0b",
        "colab": {
          "base_uri": "https://localhost:8080/"
        }
      },
      "outputs": [
        {
          "output_type": "stream",
          "name": "stdout",
          "text": [
            "[[1 2 3]\n",
            " [2 4 5]\n",
            " [1 2 3]]\n"
          ]
        },
        {
          "output_type": "execute_result",
          "data": {
            "text/plain": [
              "array([1, 2, 3, 2, 4, 5, 1, 2, 3])"
            ]
          },
          "metadata": {},
          "execution_count": 2
        }
      ],
      "source": [
        "#1 (b) \n",
        "import numpy as numpy\n",
        "arr1 = np.array([[1, 2, 3], [2, 4, 5], [1, 2, 3]])\n",
        "print(str(arr1))\n",
        "arr1.flatten()"
      ]
    },
    {
      "cell_type": "code",
      "execution_count": null,
      "id": "b53f2084",
      "metadata": {
        "id": "b53f2084",
        "outputId": "bff14c33-0b10-42a4-c891-778f73dc428a"
      },
      "outputs": [
        {
          "name": "stdout",
          "output_type": "stream",
          "text": [
            "final array [1 2 3 2 4 5 1 2 3]\n"
          ]
        }
      ],
      "source": [
        "#1 (b) \n",
        "import numpy as ad\n",
        "\n",
        "array1= ad.array([[1,2,3],[2,4,5],[1,2,3]])\n",
        "\n",
        "rem = array1.ravel()\n",
        "\n",
        "print(\"final array\", str(rem))"
      ]
    },
    {
      "cell_type": "code",
      "execution_count": 3,
      "id": "05ee9073",
      "metadata": {
        "id": "05ee9073",
        "outputId": "15ba7f84-1611-466f-e5f0-a0de31af6ae4",
        "colab": {
          "base_uri": "https://localhost:8080/"
        }
      },
      "outputs": [
        {
          "output_type": "execute_result",
          "data": {
            "text/plain": [
              "True"
            ]
          },
          "metadata": {},
          "execution_count": 3
        }
      ],
      "source": [
        "#1 (c)\n",
        "import numpy as np\n",
        "arr1 = np.array([[1,2],[3,4]])\n",
        "arr2 = np.array([[1,2],[3,4]])\n",
        "np.array_equal(arr1 , arr2)"
      ]
    },
    {
      "cell_type": "code",
      "execution_count": 4,
      "id": "01d10a69",
      "metadata": {
        "colab": {
          "base_uri": "https://localhost:8080/"
        },
        "id": "01d10a69",
        "outputId": "7099d79b-a94d-43db-f575-8934a0eefd67"
      },
      "outputs": [
        {
          "output_type": "stream",
          "name": "stdout",
          "text": [
            "most freq in 1: 1\n",
            "most freq in 2: 1\n",
            "with instance of arr 2\n",
            "1\n",
            "3\n"
          ]
        }
      ],
      "source": [
        "#1 (d) 1\n",
        "import numpy as np\n",
        "arr1=np.array([1,2,3,4,5,1,2,1,1,1])\n",
        "arr2=np.array([1,1,1,2,3,4,2,4,3,3])\n",
        "\n",
        "print(\"most freq in 1:\" ,np.bincount(arr1).argmax())\n",
        "print(\"most freq in 2:\" ,np.bincount(arr2).argmax())\n",
        "\n",
        "print('with instance of arr 2')\n",
        "k = np.bincount(arr2)\n",
        "maximum=max(k)\n",
        "\n",
        "for i in range(len(k)):\n",
        "  if k[i] == maximum:\n",
        "    print(i)"
      ]
    },
    {
      "cell_type": "code",
      "execution_count": null,
      "id": "b49a4fff",
      "metadata": {
        "colab": {
          "base_uri": "https://localhost:8080/"
        },
        "id": "b49a4fff",
        "outputId": "9e0623e7-d03c-4bfd-b01d-078cc26c0a20"
      },
      "outputs": [
        {
          "name": "stdout",
          "output_type": "stream",
          "text": [
            "Most frequent value is 1\n",
            "Indices where the most frequent value occurs is (array([0, 1, 2]),)\n"
          ]
        }
      ],
      "source": [
        "#1 (d) 2\n",
        "import numpy as ad\n",
        "\n",
        "y = ad.array([1, 1, 1, 2, 3, 4, 2, 4, 3, 3, ])\n",
        "count=ad.bincount(y)\n",
        "m=ad.argmax(count)\n",
        "print(\"Most frequent value is\",m)\n",
        "result=ad.where(y==m)\n",
        "print(\"Indices where the most frequent value occurs is\",result)\n"
      ]
    },
    {
      "cell_type": "code",
      "execution_count": 8,
      "id": "0b61cd37",
      "metadata": {
        "colab": {
          "base_uri": "https://localhost:8080/"
        },
        "id": "0b61cd37",
        "outputId": "bc900365-87b8-4807-b809-6632784431fb"
      },
      "outputs": [
        {
          "output_type": "stream",
          "name": "stdout",
          "text": [
            "Original array:\n",
            "[[ 4  1  9]\n",
            " [12  3  1]\n",
            " [ 4  5  6]]\n",
            "Sum of all elements:\n",
            "45\n",
            "Sum of each column:\n",
            "[[20  9 16]]\n",
            "Sum of each row:\n",
            "[[14]\n",
            " [16]\n",
            " [15]]\n"
          ]
        }
      ],
      "source": [
        "#1 (e) \n",
        "import numpy as np\n",
        "x = np.matrix('[4, 1, 9; 12, 3, 1; 4, 5, 6]')\n",
        "print(\"Original array:\")\n",
        "print(x)\n",
        "print(\"Sum of all elements:\")\n",
        "print(np.sum(x))\n",
        "print(\"Sum of each column:\")\n",
        "print(np.sum(x, axis=0))\n",
        "print(\"Sum of each row:\")\n",
        "print(np.sum(x, axis=1))"
      ]
    },
    {
      "cell_type": "code",
      "execution_count": 9,
      "id": "hpCFoZm6sjnV",
      "metadata": {
        "colab": {
          "base_uri": "https://localhost:8080/"
        },
        "id": "hpCFoZm6sjnV",
        "outputId": "c0c2c89d-d772-4bbe-d347-32be8d6c3440"
      },
      "outputs": [
        {
          "output_type": "stream",
          "name": "stdout",
          "text": [
            "Sum of Diagonal elements is:\n",
            "176\n"
          ]
        }
      ],
      "source": [
        "#1 (f) 1\n",
        "import numpy as np\n",
        "n_array = np.array([[55, 25, 15],[30, 44, 2],[11, 45, 77]])\n",
        "diag = np.diagonal(n_array)  \n",
        "print(\"Sum of Diagonal elements is:\")\n",
        "print(sum(diag))"
      ]
    },
    {
      "cell_type": "code",
      "execution_count": 10,
      "id": "rzXEfT4GtarF",
      "metadata": {
        "colab": {
          "base_uri": "https://localhost:8080/"
        },
        "id": "rzXEfT4GtarF",
        "outputId": "4384aa7e-d4d1-4a99-e4e6-8a04a25638cc"
      },
      "outputs": [
        {
          "output_type": "stream",
          "name": "stdout",
          "text": [
            "Eigen values of the given square array: [98.16835147 28.097044   49.73460452]\n",
            "Eigenvectors of the given square array: [[ 0.4574917   0.34637121 -0.15017693]\n",
            " [ 0.28447814 -0.72784061 -0.4852124 ]\n",
            " [ 0.84248058  0.59184038  0.8614034 ]]\n"
          ]
        }
      ],
      "source": [
        "#1 (f) 2,3\n",
        "import numpy as np\n",
        "n_array = np.array([[55, 25, 15],[30, 44, 2],[11, 45, 77]])\n",
        "w, v = np.linalg.eig(n_array)\n",
        "print(\"Eigen values of the given square array:\",w)\n",
        "print(\"Eigenvectors of the given square array:\",v)"
      ]
    },
    {
      "cell_type": "code",
      "execution_count": 11,
      "id": "mDeergnFt8m_",
      "metadata": {
        "colab": {
          "base_uri": "https://localhost:8080/"
        },
        "id": "mDeergnFt8m_",
        "outputId": "eef68255-fe7e-4ea7-c4b8-f9bb03023cfe"
      },
      "outputs": [
        {
          "output_type": "stream",
          "name": "stdout",
          "text": [
            "Inverse of the given square array: [[ 0.02404141 -0.00911212 -0.00444671]\n",
            " [-0.01667882  0.02966905  0.0024785 ]\n",
            " [ 0.00631287 -0.01603732  0.01217379]]\n"
          ]
        }
      ],
      "source": [
        "#1 (f) 4\n",
        "import numpy as np\n",
        "n_array = np.array([[55, 25, 15],[30, 44, 2],[11, 45, 77]])\n",
        "y = np.linalg.inv(n_array)\n",
        "print(\"Inverse of the given square array:\",y)\n"
      ]
    },
    {
      "cell_type": "code",
      "execution_count": 12,
      "id": "WSVJQWoFuSnL",
      "metadata": {
        "colab": {
          "base_uri": "https://localhost:8080/"
        },
        "id": "WSVJQWoFuSnL",
        "outputId": "2a59d58a-45ba-48c9-8ec6-bed1757b9d3e"
      },
      "outputs": [
        {
          "output_type": "stream",
          "name": "stdout",
          "text": [
            "Determinant of the given square array: 137180.0000000001\n"
          ]
        }
      ],
      "source": [
        "#1 (f) 5\n",
        "import numpy as np\n",
        "n_array = np.array([[55, 25, 15],[30, 44, 2],[11, 45, 77]])\n",
        "y = np.linalg.det(n_array)\n",
        "print(\"Determinant of the given square array:\",y)\n"
      ]
    },
    {
      "cell_type": "code",
      "execution_count": 13,
      "id": "h68Xv02KvXrQ",
      "metadata": {
        "colab": {
          "base_uri": "https://localhost:8080/"
        },
        "id": "h68Xv02KvXrQ",
        "outputId": "dc5cd551-743b-41a4-f7c6-1e8cec75153e"
      },
      "outputs": [
        {
          "output_type": "stream",
          "name": "stdout",
          "text": [
            "Multiplication: [[16 19]\n",
            " [26 31]]\n",
            "Covariance matrix: [[ 4.5  7.5]\n",
            " [ 7.5 12.5]]\n"
          ]
        }
      ],
      "source": [
        "#1 (g) 1\n",
        "import numpy as np\n",
        "p = np.array([[1, 2], [2, 3]])\n",
        "q = np.array([[4, 5], [6, 7]])\n",
        "print(\"Multiplication:\",np.dot(p,q))\n",
        "print(\"Covariance matrix:\",np.cov(np.dot(p,q)))"
      ]
    },
    {
      "cell_type": "code",
      "execution_count": 14,
      "id": "rzPpJZwVwz4V",
      "metadata": {
        "colab": {
          "base_uri": "https://localhost:8080/"
        },
        "id": "rzPpJZwVwz4V",
        "outputId": "7d78a715-4da9-43ac-95b3-e2d9d5b28f98"
      },
      "outputs": [
        {
          "output_type": "stream",
          "name": "stdout",
          "text": [
            "Multiplication: [[16 19  5]\n",
            " [26 31  8]\n",
            " [46 55 14]]\n",
            "Covariance matrix: [[ 54.33333333  89.16666667 158.83333333]\n",
            " [ 89.16666667 146.33333333 260.66666667]\n",
            " [158.83333333 260.66666667 464.33333333]]\n"
          ]
        }
      ],
      "source": [
        "#1 (g) 2\n",
        "import numpy as np\n",
        "p = np.array([[1, 2], [2, 3], [4, 5]])\n",
        "q = np.array([[4, 5, 1], [6, 7, 2]])\n",
        "print(\"Multiplication:\",np.dot(p,q))\n",
        "print(\"Covariance matrix:\",np.cov(np.dot(p,q)))"
      ]
    },
    {
      "cell_type": "code",
      "execution_count": 15,
      "id": "h60EniWJxZUt",
      "metadata": {
        "colab": {
          "base_uri": "https://localhost:8080/"
        },
        "id": "h60EniWJxZUt",
        "outputId": "05c58cb1-ef54-4f3a-cfb3-389aeb579aa5"
      },
      "outputs": [
        {
          "output_type": "stream",
          "name": "stdout",
          "text": [
            "Inner product: [[17 52]\n",
            " [13 62]]\n",
            "Outer product: [[ 2 10  0 10 20  6]\n",
            " [ 3 15  0 15 30  9]\n",
            " [ 4 20  0 20 40 12]\n",
            " [ 3 15  0 15 30  9]\n",
            " [ 2 10  0 10 20  6]\n",
            " [ 9 45  0 45 90 27]]\n"
          ]
        }
      ],
      "source": [
        "#1 (h)\n",
        "import numpy as np\n",
        "x = np.array([[2, 3, 4], [3, 2, 9]])\n",
        "y = np.array([[1, 5, 0], [5, 10, 3]])\n",
        "print(\"Inner product:\",np.inner(x,y))\n",
        "print(\"Outer product:\",np.outer(x,y))\n"
      ]
    },
    {
      "cell_type": "code",
      "execution_count": 16,
      "id": "Y34eMDeqzn6K",
      "metadata": {
        "colab": {
          "base_uri": "https://localhost:8080/"
        },
        "id": "Y34eMDeqzn6K",
        "outputId": "4787cb76-468d-4519-f42f-71d5a0f33e17"
      },
      "outputs": [
        {
          "output_type": "stream",
          "name": "stdout",
          "text": [
            "Absolute Value: [[1 2 3]\n",
            " [4 5 6]]\n"
          ]
        }
      ],
      "source": [
        "#2 (a) 1\n",
        "import numpy as np\n",
        "array = np.array([[1, -2, 3],[-4, 5, -6]])\n",
        "print(\"Absolute Value:\",np.abs(array))"
      ]
    },
    {
      "cell_type": "code",
      "execution_count": 17,
      "id": "c65e9d76",
      "metadata": {
        "colab": {
          "base_uri": "https://localhost:8080/"
        },
        "id": "c65e9d76",
        "outputId": "d91a2813-0cfd-4211-8469-35cad7cee425"
      },
      "outputs": [
        {
          "output_type": "stream",
          "name": "stdout",
          "text": [
            "array :  [[ 1 -2  3]\n",
            " [-4  5 -6]]\n",
            "Mean of row :  [ 0.66666667 -1.66666667]\n",
            "median of row :  [ 1. -4.]\n",
            "standard deviation of row :  [2.05480467 4.78423336]\n",
            "Mean of column :  [-1.5  1.5 -1.5]\n",
            "median of column :  [-1.5  1.5 -1.5]\n",
            "standard deviation of column :  [2.5 3.5 4.5]\n"
          ]
        }
      ],
      "source": [
        "#2 (a) 2\n",
        "import numpy as np\n",
        "array = np.array([[1, -2, 3],[-4, 5, -6]])\n",
        "print(\"array : \", array)\n",
        "print(\"Mean of row : \",\n",
        "       np.mean(array, 1))\n",
        "print(\"median of row : \",\n",
        "       np.median(array, 1))\n",
        "print(\"standard deviation of row : \",\n",
        "       np.std(array, 1))\n",
        "\n",
        "print(\"Mean of column : \",\n",
        "       np.mean(array, 0))\n",
        "print(\"median of column : \",\n",
        "       np.median(array, 0))\n",
        "print(\"standard deviation of column : \",\n",
        "       np.std(array, 0))"
      ]
    },
    {
      "cell_type": "code",
      "execution_count": 18,
      "id": "9f096122",
      "metadata": {
        "colab": {
          "base_uri": "https://localhost:8080/"
        },
        "id": "9f096122",
        "outputId": "49465885-c591-4f89-de04-bba2ca8580e7"
      },
      "outputs": [
        {
          "output_type": "stream",
          "name": "stdout",
          "text": [
            "array :  [[ 1 -2  3]\n",
            " [-4  5 -6]]\n",
            "50th percentile of array :  -0.5\n",
            "25th percentile of array :  -3.5\n",
            "75th percentile of arraay :  2.5\n"
          ]
        }
      ],
      "source": [
        "#2 (a) 3\n",
        "import numpy as np\n",
        "array = np.array([[1, -2, 3],[-4, 5, -6]])\n",
        "print(\"array : \", array)\n",
        "print(\"50th percentile of array : \",\n",
        "       np.percentile(array, 50))\n",
        "print(\"25th percentile of array : \",\n",
        "       np.percentile(array, 25))\n",
        "print(\"75th percentile of arraay : \",\n",
        "       np.percentile(array, 75))"
      ]
    },
    {
      "cell_type": "code",
      "execution_count": null,
      "id": "O0g-xfEL0xAL",
      "metadata": {
        "colab": {
          "base_uri": "https://localhost:8080/"
        },
        "id": "O0g-xfEL0xAL",
        "outputId": "329dead2-bb9f-4e1c-f25a-6dd1da56a887"
      },
      "outputs": [
        {
          "name": "stdout",
          "output_type": "stream",
          "text": [
            "Floor: [-2. -2. -1.  0.  1.  1.  3.]\n",
            "Ceil: [-1. -1. -0.  1.  2.  2.  3.]\n",
            "Truncate: [-1. -1. -0.  0.  1.  1.  3.]\n",
            "Round: [-2, -2, 0, 0, 2, 2, 3]\n"
          ]
        }
      ],
      "source": [
        "#2 (b)\n",
        "import numpy as np\n",
        "a = np.array([-1.8, -1.6, -0.5, 0.5,1.6, 1.8, 3.0])\n",
        "r2 = np.floor(a)\n",
        "r3 = np.ceil(a)\n",
        "r4 = np.trunc(a)\n",
        "r5 = [round(elem) for elem in a]\n",
        "print(\"Floor:\",r2)\n",
        "print(\"Ceil:\",r3)\n",
        "print(\"Truncate:\",r4)\n",
        "print(\"Round:\",r5)"
      ]
    },
    {
      "cell_type": "code",
      "execution_count": null,
      "id": "RRQnPdWN1JyF",
      "metadata": {
        "colab": {
          "base_uri": "https://localhost:8080/"
        },
        "id": "RRQnPdWN1JyF",
        "outputId": "fb591663-c9cf-4eb0-958a-73942c48bff2"
      },
      "outputs": [
        {
          "name": "stdout",
          "output_type": "stream",
          "text": [
            "[ 10  16  16  52  54  62 453]\n",
            "[0 3 4 1 5 2 6]\n",
            "4 smallest elements of the array\n",
            "[10 16 16 52]\n",
            "5 largest elements of the array\n",
            "[ 16  52  54  62 453]\n"
          ]
        }
      ],
      "source": [
        "#3 (a)\n",
        "import numpy as np\n",
        "array = np.array([10, 52, 62, 16, 16, 54, 453])\n",
        "# 1\n",
        "print(np.sort(array))\n",
        "# 2\n",
        "indices = np.argsort(array)\n",
        "print(indices)\n",
        "# 3\n",
        "arr1 = np.sort(array)\n",
        "print(\"4 smallest elements of the array\")\n",
        "print(arr1[:4])\n",
        "# 4\n",
        "print(\"5 largest elements of the array\")\n",
        "print(arr1[-5:])"
      ]
    },
    {
      "cell_type": "code",
      "execution_count": 19,
      "id": "wXpNfSMQ3vZ9",
      "metadata": {
        "colab": {
          "base_uri": "https://localhost:8080/"
        },
        "id": "wXpNfSMQ3vZ9",
        "outputId": "c34a8e99-6501-4dcd-f3db-6319476ff93d"
      },
      "outputs": [
        {
          "output_type": "stream",
          "name": "stdout",
          "text": [
            "Float elements: [1.2 2.2]\n",
            "Integer elements: []\n"
          ]
        }
      ],
      "source": [
        "#3 (b)\n",
        "import numpy as np\n",
        "array = np.array([1.0, 1.2, 2.2, 2.0, 3.0, 2.0])\n",
        "\n",
        "floatele = array[array != array.astype(int)]\n",
        "print (\"Float elements:\",floatele)\n",
        "intele = array[array != array.astype(float)]\n",
        "print (\"Integer elements:\",intele)"
      ]
    },
    {
      "cell_type": "code",
      "execution_count": 28,
      "id": "9bb2dd4a",
      "metadata": {
        "colab": {
          "base_uri": "https://localhost:8080/"
        },
        "id": "9bb2dd4a",
        "outputId": "5288c832-4513-440f-ed8f-9d678edacf1a"
      },
      "outputs": [
        {
          "output_type": "stream",
          "name": "stdout",
          "text": [
            "<class 'numpy.ndarray'>\n",
            "(242, 304, 3)\n",
            "<class 'PIL.Image.Image'>\n",
            "RGB\n",
            "(304, 242)\n"
          ]
        }
      ],
      "source": [
        "#4\n",
        "\n",
        "from PIL import Image\n",
        "from numpy import asarray\n",
        "\n",
        "image = Image.open('/content/ultimate-photo-editor-cloud-sync-mobile-thumb.webp')\n",
        "\n",
        "data = asarray(image)\n",
        "print(type(data))\n",
        "\n",
        "print(data.shape)\n",
        "\n",
        "image2 = Image.fromarray(data)\n",
        "print(type(image2))\n",
        "\n",
        "print(image2.mode)\n",
        "print(image2.size)\n",
        "\n",
        "\n",
        "with open(\"sample.txt\", \"w+\") as f:\n",
        "  data = f.read()\n",
        "  f.write(str(data))"
      ]
    },
    {
      "cell_type": "code",
      "execution_count": null,
      "id": "3ee5531f",
      "metadata": {
        "id": "3ee5531f"
      },
      "outputs": [],
      "source": [
        ""
      ]
    }
  ],
  "metadata": {
    "colab": {
      "name": "Manamrit Singh_ConvoAI_Ass1.ipynb",
      "provenance": []
    },
    "kernelspec": {
      "display_name": "Python 3",
      "language": "python",
      "name": "python3"
    },
    "language_info": {
      "codemirror_mode": {
        "name": "ipython",
        "version": 3
      },
      "file_extension": ".py",
      "mimetype": "text/x-python",
      "name": "python",
      "nbconvert_exporter": "python",
      "pygments_lexer": "ipython3",
      "version": "3.8.8"
    }
  },
  "nbformat": 4,
  "nbformat_minor": 5
}