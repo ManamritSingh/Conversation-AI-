{
 "cells": [
  {
   "cell_type": "code",
   "execution_count": 1,
   "metadata": {},
   "outputs": [],
   "source": [
    "import sys\n",
    "import random\n",
    "import re"
   ]
  },
  {
   "cell_type": "code",
   "execution_count": 7,
   "metadata": {},
   "outputs": [],
   "source": [
    "corpus = \"Rated amongst the top ranked innovation-driven private universities and technical institutes in the country, Thapar Institute of Engineering & Technology has been accredited with an 'A+' grade by the National Assessment and Accreditation Council (NAAC). We constantly evolve our teaching methods, and provide quality education to our students, whom we see as unique individuals with different interests and aspirations. We keep the quality of our curriculum, faculty and infrastructure unparalleled, and believe in encouraging thousands of young minds to excel in India and abroad. Our alumni have stood out in varied fields such as business and industry, administrative and regulatory services, research and education, and social and human rights organisations.\""
   ]
  },
  {
   "cell_type": "code",
   "execution_count": 11,
   "metadata": {},
   "outputs": [
    {
     "data": {
      "text/plain": [
       "<function str.split(sep=None, maxsplit=-1)>"
      ]
     },
     "execution_count": 11,
     "metadata": {},
     "output_type": "execute_result"
    }
   ],
   "source": [
    "k =corpus.split\n",
    "\n",
    "k\n"
   ]
  },
  {
   "cell_type": "code",
   "execution_count": 29,
   "metadata": {},
   "outputs": [
    {
     "data": {
      "text/plain": [
       "'Rated amongst the top ranked innovationdriven private universities and technical institutes in the country Thapar Institute of Engineering  Technology has been accredited with an A grade by the National Assessment and Accreditation Council NAAC We constantly evolve our teaching methods and provide quality education to our students whom we see as unique individuals with different interests and aspirations We keep the quality of our curriculum faculty and infrastructure unparalleled and believe in encouraging thousands of young minds to excel in India and abroad Our alumni have stood out in varied fields such as business and industry administrative and regulatory services research and education and social and human rights organisations'"
      ]
     },
     "execution_count": 29,
     "metadata": {},
     "output_type": "execute_result"
    }
   ],
   "source": [
    "\n",
    "\n",
    "with open('mytext.txt' , 'r') as file :\n",
    "    sentence = file.read()\n",
    "special_characters = ['!','\"','#','$','%','&','(',')','*','+','/',':',';','<','=','>','@','^','`','{','|','}','~','\\t' , ',' , '\\'' , '.' , '-']\n",
    "\n",
    "for i in special_characters:\n",
    "    sentence = sentence.replace(i , '')\n",
    "\n",
    "sentence"
   ]
  },
  {
   "cell_type": "code",
   "execution_count": 30,
   "metadata": {},
   "outputs": [],
   "source": [
    "f = open('output2.txt','w')\n",
    "for x in sentence:\n",
    "    text = sentence.split()\n",
    "    f.write(str(text))\n",
    "    f.write('\\n')\n",
    "f.close()  "
   ]
  },
  {
   "cell_type": "code",
   "execution_count": 31,
   "metadata": {},
   "outputs": [],
   "source": [
    "from nltk.stem import PorterStemmer"
   ]
  },
  {
   "cell_type": "code",
   "execution_count": 37,
   "metadata": {},
   "outputs": [
    {
     "name": "stdout",
     "output_type": "stream",
     "text": [
      "Rated  :  rate\n",
      "amongst  :  amongst\n",
      "the  :  the\n",
      "top  :  top\n",
      "ranked  :  rank\n",
      "innovationdriven  :  innovationdriven\n",
      "private  :  privat\n",
      "universities  :  univers\n",
      "and  :  and\n",
      "technical  :  technic\n",
      "institutes  :  institut\n",
      "in  :  in\n",
      "the  :  the\n",
      "country  :  countri\n",
      "Thapar  :  thapar\n",
      "Institute  :  institut\n",
      "of  :  of\n",
      "Engineering  :  engin\n",
      "Technology  :  technolog\n",
      "has  :  ha\n",
      "been  :  been\n",
      "accredited  :  accredit\n",
      "with  :  with\n",
      "an  :  an\n",
      "A  :  a\n",
      "grade  :  grade\n",
      "by  :  by\n",
      "the  :  the\n",
      "National  :  nation\n",
      "Assessment  :  assess\n",
      "and  :  and\n",
      "Accreditation  :  accredit\n",
      "Council  :  council\n",
      "NAAC  :  naac\n",
      "We  :  we\n",
      "constantly  :  constantli\n",
      "evolve  :  evolv\n",
      "our  :  our\n",
      "teaching  :  teach\n",
      "methods  :  method\n",
      "and  :  and\n",
      "provide  :  provid\n",
      "quality  :  qualiti\n",
      "education  :  educ\n",
      "to  :  to\n",
      "our  :  our\n",
      "students  :  student\n",
      "whom  :  whom\n",
      "we  :  we\n",
      "see  :  see\n",
      "as  :  as\n",
      "unique  :  uniqu\n",
      "individuals  :  individu\n",
      "with  :  with\n",
      "different  :  differ\n",
      "interests  :  interest\n",
      "and  :  and\n",
      "aspirations  :  aspir\n",
      "We  :  we\n",
      "keep  :  keep\n",
      "the  :  the\n",
      "quality  :  qualiti\n",
      "of  :  of\n",
      "our  :  our\n",
      "curriculum  :  curriculum\n",
      "faculty  :  faculti\n",
      "and  :  and\n",
      "infrastructure  :  infrastructur\n",
      "unparalleled  :  unparallel\n",
      "and  :  and\n",
      "believe  :  believ\n",
      "in  :  in\n",
      "encouraging  :  encourag\n",
      "thousands  :  thousand\n",
      "of  :  of\n",
      "young  :  young\n",
      "minds  :  mind\n",
      "to  :  to\n",
      "excel  :  excel\n",
      "in  :  in\n",
      "India  :  india\n",
      "and  :  and\n",
      "abroad  :  abroad\n",
      "Our  :  our\n",
      "alumni  :  alumni\n",
      "have  :  have\n",
      "stood  :  stood\n",
      "out  :  out\n",
      "in  :  in\n",
      "varied  :  vari\n",
      "fields  :  field\n",
      "such  :  such\n",
      "as  :  as\n",
      "business  :  busi\n",
      "and  :  and\n",
      "industry  :  industri\n",
      "administrative  :  administr\n",
      "and  :  and\n",
      "regulatory  :  regulatori\n",
      "services  :  servic\n",
      "research  :  research\n",
      "and  :  and\n",
      "education  :  educ\n",
      "and  :  and\n",
      "social  :  social\n",
      "and  :  and\n",
      "human  :  human\n",
      "rights  :  right\n",
      "organisations  :  organis\n"
     ]
    }
   ],
   "source": [
    "stemmer = PorterStemmer()\n",
    "words = ['Rated', 'amongst', 'the', 'top', 'ranked', 'innovationdriven', 'private', 'universities', 'and', 'technical', 'institutes', 'in', 'the', 'country', 'Thapar', 'Institute', 'of', 'Engineering', 'Technology', 'has', 'been', 'accredited', 'with', 'an', 'A', 'grade', 'by', 'the', 'National', 'Assessment', 'and', 'Accreditation', 'Council', 'NAAC', 'We', 'constantly', 'evolve', 'our', 'teaching', 'methods', 'and', 'provide', 'quality', 'education', 'to', 'our', 'students', 'whom', 'we', 'see', 'as', 'unique', 'individuals', 'with', 'different', 'interests', 'and', 'aspirations', 'We', 'keep', 'the', 'quality', 'of', 'our', 'curriculum', 'faculty', 'and', 'infrastructure', 'unparalleled', 'and', 'believe', 'in', 'encouraging', 'thousands', 'of', 'young', 'minds', 'to', 'excel', 'in', 'India', 'and', 'abroad', 'Our', 'alumni', 'have', 'stood', 'out', 'in', 'varied', 'fields', 'such', 'as', 'business', 'and', 'industry', 'administrative', 'and', 'regulatory', 'services', 'research', 'and', 'education', 'and', 'social', 'and', 'human', 'rights', 'organisations']\n",
    "for w in words:\n",
    "    print(w, \" : \", stemmer.stem(w))"
   ]
  }
 ],
 "metadata": {
  "kernelspec": {
   "display_name": "Python 3",
   "language": "python",
   "name": "python3"
  },
  "language_info": {
   "codemirror_mode": {
    "name": "ipython",
    "version": 3
   },
   "file_extension": ".py",
   "mimetype": "text/x-python",
   "name": "python",
   "nbconvert_exporter": "python",
   "pygments_lexer": "ipython3",
   "version": "3.10.1"
  },
  "orig_nbformat": 4,
  "vscode": {
   "interpreter": {
    "hash": "369f2c481f4da34e4445cda3fffd2e751bd1c4d706f27375911949ba6bb62e1c"
   }
  }
 },
 "nbformat": 4,
 "nbformat_minor": 2
}
