{
 "cells": [
  {
   "cell_type": "code",
   "execution_count": 1,
   "metadata": {},
   "outputs": [],
   "source": [
    "import spacy"
   ]
  },
  {
   "cell_type": "code",
   "execution_count": 3,
   "metadata": {},
   "outputs": [],
   "source": [
    "nlp = spacy.load('en_core_web_sm')"
   ]
  },
  {
   "cell_type": "code",
   "execution_count": 4,
   "metadata": {},
   "outputs": [],
   "source": [
    "doc = nlp(\"The Department of Computer Science and Engineering offers 4-year B.E. programme in Computer Engineering, Computer Science & Engineering and Computer Science & Business Systems. It also offers M.E. in Computer Science and Engineering, M.E. in Software Engineering and MCA. The Department has an active Doctoral programme too.\")"
   ]
  },
  {
   "cell_type": "code",
   "execution_count": 6,
   "metadata": {},
   "outputs": [
    {
     "name": "stdout",
     "output_type": "stream",
     "text": [
      "The = DET\n",
      "Department = PROPN\n",
      "of = ADP\n",
      "Computer = PROPN\n",
      "Science = PROPN\n",
      "and = CCONJ\n",
      "Engineering = PROPN\n",
      "offers = VERB\n",
      "4 = NUM\n",
      "- = PUNCT\n",
      "year = NOUN\n",
      "B.E. = PROPN\n",
      "programme = NOUN\n",
      "in = ADP\n",
      "Computer = PROPN\n",
      "Engineering = PROPN\n",
      ", = PUNCT\n",
      "Computer = PROPN\n",
      "Science = PROPN\n",
      "& = CCONJ\n",
      "Engineering = PROPN\n",
      "and = CCONJ\n",
      "Computer = PROPN\n",
      "Science = PROPN\n",
      "& = CCONJ\n",
      "Business = PROPN\n",
      "Systems = PROPN\n",
      ". = PUNCT\n",
      "It = PRON\n",
      "also = ADV\n",
      "offers = VERB\n",
      "M.E. = PROPN\n",
      "in = ADP\n",
      "Computer = PROPN\n",
      "Science = PROPN\n",
      "and = CCONJ\n",
      "Engineering = PROPN\n",
      ", = PUNCT\n",
      "M.E. = PROPN\n",
      "in = ADP\n",
      "Software = PROPN\n",
      "Engineering = PROPN\n",
      "and = CCONJ\n",
      "MCA = PROPN\n",
      ". = PUNCT\n",
      "The = DET\n",
      "Department = PROPN\n",
      "has = VERB\n",
      "an = DET\n",
      "active = ADJ\n",
      "Doctoral = ADJ\n",
      "programme = NOUN\n",
      "too = ADV\n",
      ". = PUNCT\n"
     ]
    }
   ],
   "source": [
    "for token in doc:\n",
    "    print(token.text , '=' , token.pos_)"
   ]
  },
  {
   "attachments": {},
   "cell_type": "markdown",
   "metadata": {},
   "source": [
    "Name Entity Recognition"
   ]
  },
  {
   "cell_type": "code",
   "execution_count": 7,
   "metadata": {},
   "outputs": [
    {
     "name": "stdout",
     "output_type": "stream",
     "text": [
      "The Department of Computer Science and Engineering = ORG\n",
      "4-year = DATE\n",
      "B.E. = ORG\n",
      "Computer Engineering = ORG\n",
      "Computer Science & Engineering = ORG\n",
      "Computer Science & Business Systems = ORG\n",
      "M.E. = ORG\n",
      "M.E. = ORG\n",
      "Software Engineering = FAC\n",
      "MCA = ORG\n",
      "Department = ORG\n"
     ]
    }
   ],
   "source": [
    "for ent in doc.ents:\n",
    "    print(ent.text , '=' , ent.label_)"
   ]
  },
  {
   "cell_type": "code",
   "execution_count": 9,
   "metadata": {},
   "outputs": [
    {
     "data": {
      "text/plain": [
       "'Companies, agencies, institutions, etc.'"
      ]
     },
     "execution_count": 9,
     "metadata": {},
     "output_type": "execute_result"
    }
   ],
   "source": [
    "spacy.explain('ORG')"
   ]
  },
  {
   "cell_type": "code",
   "execution_count": 10,
   "metadata": {},
   "outputs": [
    {
     "data": {
      "text/plain": [
       "'Buildings, airports, highways, bridges, etc.'"
      ]
     },
     "execution_count": 10,
     "metadata": {},
     "output_type": "execute_result"
    }
   ],
   "source": [
    "spacy.explain('FAC')"
   ]
  }
 ],
 "metadata": {
  "kernelspec": {
   "display_name": "Python 3",
   "language": "python",
   "name": "python3"
  },
  "language_info": {
   "codemirror_mode": {
    "name": "ipython",
    "version": 3
   },
   "file_extension": ".py",
   "mimetype": "text/x-python",
   "name": "python",
   "nbconvert_exporter": "python",
   "pygments_lexer": "ipython3",
   "version": "3.10.1"
  },
  "orig_nbformat": 4,
  "vscode": {
   "interpreter": {
    "hash": "369f2c481f4da34e4445cda3fffd2e751bd1c4d706f27375911949ba6bb62e1c"
   }
  }
 },
 "nbformat": 4,
 "nbformat_minor": 2
}
